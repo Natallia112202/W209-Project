{
 "cells": [
  {
   "cell_type": "markdown",
   "metadata": {
    "extensions": {
     "jupyter_dashboards": {
      "version": 1,
      "views": {
       "grid_default": {
        "col": 0,
        "height": 2,
        "hidden": false,
        "row": 0,
        "width": 12
       },
       "report_default": {
        "hidden": false
       }
      }
     }
    }
   },
   "source": [
    "# Food network"
   ]
  },
  {
   "cell_type": "code",
   "execution_count": 1,
   "metadata": {
    "collapsed": true,
    "extensions": {
     "jupyter_dashboards": {
      "version": 1,
      "views": {
       "grid_default": {
        "hidden": true
       },
       "report_default": {}
      }
     }
    }
   },
   "outputs": [],
   "source": [
    "#to open sep window for graph: Kernel > Restart & Clear Output, then run this\n",
    "#%matplotlib tk"
   ]
  },
  {
   "cell_type": "code",
   "execution_count": 2,
   "metadata": {
    "extensions": {
     "jupyter_dashboards": {
      "version": 1,
      "views": {
       "grid_default": {
        "col": 0,
        "height": 14,
        "hidden": false,
        "row": 2,
        "width": 10
       },
       "report_default": {
        "hidden": false
       }
      }
     }
    },
    "scrolled": true
   },
   "outputs": [
    {
     "data": {
      "text/plain": [
       "'FOOD NETWORK, speciify min affinities,close window to pick different min_aff'"
      ]
     },
     "metadata": {},
     "output_type": "display_data"
    },
    {
     "data": {
      "application/vnd.jupyter.widget-view+json": {
       "model_id": "441c9c0477b1414895e0926b94f9b37d",
       "version_major": 2,
       "version_minor": 0
      },
      "text/plain": [
       "A Jupyter Widget"
      ]
     },
     "metadata": {},
     "output_type": "display_data"
    },
    {
     "data": {
      "text/plain": [
       "<function __main__.Graph_plot>"
      ]
     },
     "execution_count": 2,
     "metadata": {},
     "output_type": "execute_result"
    }
   ],
   "source": [
    "from ipywidgets import widgets\n",
    "from ipywidgets import *\n",
    "import numpy as np\n",
    "import pandas as pd\n",
    "from pandas import Series, DataFrame\n",
    "import networkx as nx\n",
    "import matplotlib.pyplot as plt\n",
    "from pylab import rcParams\n",
    "rcParams['figure.figsize'] = 10, 10\n",
    "import json\n",
    "import itertools\n",
    "#%matplotlib inline\n",
    "#to open sep windows: Kernel > Restart & Clear Output, then run this\n",
    "#%matplotlib tk\n",
    "\n",
    "# Read 'results.json' directly into a python dictionary.  The results file only has the \"node\" section\n",
    "# results.json(all,nodes only.json looks like this:\n",
    "#{\"node\": [{\"name\": \"salt\", \"occurence\": [{\"cuisine\": \"all_cuisines\", \"num\": 0}, {\"cuisine\": \"brazilian\", \"num\": 194},\n",
    "#{\"cuisine\": \"british\", \"num\": 407}, #{\"cuisine\": \"cajun_creole\", \"num\": 743}, {\"cuisine\": \"chinese\", \"num\": 907},\n",
    "#{\"cuisine\": \"filipino\", \"num\": 421}, {\"cuisine\": \"french\", \"num\": 1203}, {\"cuisine\": \"greek\", \"num\": 572},...\n",
    "#results(all, nodes only)\n",
    "\n",
    "# Read 'results.json' directly into python dictionary\n",
    "\n",
    "results_file = open('./results_nodes_only.json')#using NOT so Light json\n",
    "results_str = results_file.read()\n",
    "results = json.loads(results_str)\n",
    "nodes = results['node']\n",
    "\n",
    "\n",
    "# Load results data into node and link lists\n",
    "\n",
    "def Graph_plot(min_aff,ing_labels):\n",
    "    link_list=[]\n",
    "   \n",
    "    for ing in nodes:\n",
    "        for x in ing['occurence']:\n",
    "            if x['num'] > min_aff:# min number of affinities (num(min))change this to visualize less or more\n",
    "                link_list.append(tuple([ing['name'],x['cuisine']]))\n",
    "\n",
    "#convert the list of tupples to a list of nodes, i.e, [('brazilain', salt)... --> ['brazilain, salt,...] ising itertools and use set to eliminate duplciates.\n",
    "\n",
    "    node_list =(set(list(itertools.chain(*link_list))))\n",
    "\n",
    "#Set graph\n",
    "    Food_Graph = nx.Graph()\n",
    "\n",
    "#add edges to Food_Graph\n",
    "\n",
    "    Food_Graph.add_edges_from(link_list)\n",
    "\n",
    "#add nodes to Food_Graph <-- Ist thsi necessary???\n",
    "\n",
    "    Food_Graph.add_nodes_from(node_list)\n",
    "\n",
    "#Set node sizes.  Networkx requres a separtaat list with 1:1 correspondence to nodes list.  So loop through entire list and compare with the cuisine modes\n",
    "\n",
    "    cuisine_nodes = ['brazilian', 'british', 'cajun_creole', 'chinese', 'filipino', 'french', 'greek', 'indian', 'irish', 'italian', 'jamaican', 'japanese', 'korean', 'mexican', 'moroccan', 'russian', 'southern_us', 'spanish', 'thai', 'vietnamese']\n",
    "\n",
    "    size_list=list(Food_Graph.nodes)\n",
    "\n",
    "    for index, item in enumerate(size_list):\n",
    "        if item in cuisine_nodes:\n",
    "            size_list[index] = 200\n",
    "        else:\n",
    "            size_list[index] = 50\n",
    "\n",
    "#set node_labels\n",
    "\n",
    "    node_labels = {}\n",
    "    for node in Food_Graph.nodes():\n",
    "        if node in cuisine_nodes:\n",
    "            node_labels[node] = node.title()\n",
    "\n",
    "\n",
    "#Set node colors.   Networkx requres a separtaat list with 1:1 correspondence to nodes list\n",
    "\n",
    "    color_list=list(Food_Graph.nodes)\n",
    "\n",
    "    for index, item in enumerate(color_list):\n",
    "        if item in cuisine_nodes:\n",
    "            color_list[index] = 'b'\n",
    "        else:\n",
    "            color_list[index] = 'r'\n",
    "\n",
    "# Draw the graph\n",
    "\n",
    "    pos=nx.spring_layout(Food_Graph)### Caluate node positions once and include the 'pos' variable argeument in the draw commands\n",
    "\n",
    "#Label just the nodes\n",
    "#change \"with_labels=True\" when less nodes present so one can see the labels\n",
    "    if ing_labels :\n",
    "        nx.draw(Food_Graph, pos, edge_color='y', with_labels=True , node_size=size_list, node_color = color_list)\n",
    "        nx.draw_networkx_labels(Food_Graph,pos,labels=node_labels)\n",
    "    else:\n",
    "        nx.draw(Food_Graph, pos, edge_color='y', with_labels=False , node_size=size_list, node_color = color_list)\n",
    "        nx.draw_networkx_labels(Food_Graph,pos,labels=node_labels)\n",
    "        \n",
    "\n",
    "    plt.show()\n",
    "\n",
    "from IPython.display import display\n",
    "text = widgets.Text()\n",
    "display('FOOD NETWORK, speciify min affinities,close window to pick different min_aff')\n",
    "interact(Graph_plot, min_aff = [20,50,100,150,180,250],ing_labels = False)\n"
   ]
  },
  {
   "cell_type": "markdown",
   "metadata": {
    "extensions": {
     "jupyter_dashboards": {
      "version": 1,
      "views": {
       "grid_default": {
        "col": 0,
        "height": 2,
        "hidden": false,
        "row": 16,
        "width": 10
       },
       "report_default": {
        "hidden": false
       }
      }
     }
    }
   },
   "source": [
    "# Find specific ingredient cuisines interconnections"
   ]
  },
  {
   "cell_type": "code",
   "execution_count": 3,
   "metadata": {
    "extensions": {
     "jupyter_dashboards": {
      "version": 1,
      "views": {
       "grid_default": {
        "col": 0,
        "height": 18,
        "hidden": false,
        "row": 18,
        "width": 11
       },
       "report_default": {
        "hidden": false
       }
      }
     }
    },
    "scrolled": false
   },
   "outputs": [
    {
     "data": {
      "text/plain": [
       "'PREVALENCE OF INGREDIENT X IN CUISINES, ..in search for unusual pairings X+Y'"
      ]
     },
     "metadata": {},
     "output_type": "display_data"
    },
    {
     "data": {
      "application/vnd.jupyter.widget-view+json": {
       "model_id": "e650b20ac5e847f19f6cce48f84c26b3",
       "version_major": 2,
       "version_minor": 0
      },
      "text/plain": [
       "A Jupyter Widget"
      ]
     },
     "metadata": {},
     "output_type": "display_data"
    }
   ],
   "source": [
    "import numpy as np\n",
    "import pandas as pd\n",
    "from pandas import Series, DataFrame\n",
    "import networkx as nx\n",
    "import matplotlib.pyplot as plt\n",
    "import json\n",
    "%matplotlib inline\n",
    "\n",
    "# Read 'results.json' directly into python dictionary\n",
    "\n",
    "results_file = open('./results_nodes_only.json')#using NOT so Light json\n",
    "results_str = results_file.read()\n",
    "results = json.loads(results_str)\n",
    "nodes = results['node']\n",
    "\n",
    "\n",
    "# Load results data into node and link lists\n",
    "\n",
    "\n",
    "#use list of certain ingredients - not all of them\n",
    "def two_ing(ing_list):\n",
    "    \n",
    "    #ing_list = ['corn', 'pumpkin'] \n",
    "    cuisine_nodes = ['brazilian', 'british', 'cajun_creole', 'chinese', 'filipino', 'french', 'greek', 'indian', 'irish', 'italian', 'jamaican', 'japanese', 'korean', 'mexican', 'moroccan', 'russian', 'southern_us', 'spanish', 'thai', 'vietnamese']\n",
    "    new_nodes = []\n",
    "    for ing in nodes:\n",
    "        if ing['name'] in ing_list:\n",
    "            new_nodes.append(ing)\n",
    "#print(new_nodes) \n",
    "    node_list=[]\n",
    "    link_list=[]\n",
    "    for ing in new_nodes:\n",
    "        node_list.append(ing['name'])\n",
    "        for x in ing['occurence']:\n",
    "            if x['num'] > 0:\n",
    "                link_list.append(tuple([ing['name'],x['cuisine']]))\n",
    "\n",
    "    Light = nx.Graph()\n",
    "    Light.add_nodes_from(node_list)\n",
    "    Light.add_edges_from(link_list)\n",
    "\n",
    "    color_list=list(Light.nodes)\n",
    "\n",
    "    for index, item in enumerate(color_list):\n",
    "        if item in cuisine_nodes:\n",
    "            color_list[index] = 'b'\n",
    "        else:\n",
    "            color_list[index] = 'r'\n",
    "\n",
    "        \n",
    "    nx.draw(Light,edge_color='y', with_labels=True, node_color = color_list)\n",
    "#nx.draw_spectral(Light, with_labels=True)\n",
    "\n",
    "#pos = nx.spring_layout(Light)\n",
    "#nx.draw_networkx_labels(Light, pos)\n",
    "    #print(ing_list)\n",
    "    plt.show()\n",
    "    \n",
    "    \n",
    "#can see connections through edges of the graph\n",
    "#print(Light.edges)\n",
    "from IPython.display import display\n",
    "text = widgets.Text()\n",
    "display('PREVALENCE OF INGREDIENT X IN CUISINES, ..in search for unusual pairings X+Y')\n",
    "text = widgets.Text()\n",
    "display(text)\n",
    "def handle_submit(sender):\n",
    "    interact(two_ing, ing_list = text.value)\n",
    "text.on_submit(handle_submit)\n",
    "#interact(two_ing,ing_list = a)\n",
    "\n",
    "\n",
    "\n"
   ]
  },
  {
   "cell_type": "markdown",
   "metadata": {
    "extensions": {
     "jupyter_dashboards": {
      "version": 1,
      "views": {
       "grid_default": {
        "col": 0,
        "height": 2,
        "hidden": false,
        "row": 71,
        "width": 11
       },
       "report_default": {
        "hidden": false
       }
      }
     }
    }
   },
   "source": [
    "# Find recipes where given ingredient occurs"
   ]
  },
  {
   "cell_type": "code",
   "execution_count": 4,
   "metadata": {
    "extensions": {
     "jupyter_dashboards": {
      "version": 1,
      "views": {
       "grid_default": {
        "col": 0,
        "height": 12,
        "hidden": false,
        "row": 73,
        "width": 5
       },
       "report_default": {
        "hidden": false
       }
      }
     }
    }
   },
   "outputs": [
    {
     "data": {
      "text/plain": [
       "'SEARCH INGREDIENT IDs'"
      ]
     },
     "metadata": {},
     "output_type": "display_data"
    },
    {
     "data": {
      "application/vnd.jupyter.widget-view+json": {
       "model_id": "5d99ea7637804f4b9bca2b33347ba8d1",
       "version_major": 2,
       "version_minor": 0
      },
      "text/plain": [
       "A Jupyter Widget"
      ]
     },
     "metadata": {},
     "output_type": "display_data"
    },
    {
     "data": {
      "text/plain": [
       "<function __main__.ingr_and_IDs>"
      ]
     },
     "execution_count": 4,
     "metadata": {},
     "output_type": "execute_result"
    }
   ],
   "source": [
    "allnodes_file = open('./all_cuisine_nodes.json')\n",
    "allnodes_str = allnodes_file.read()\n",
    "allnodes_train = json.loads(allnodes_str)\n",
    "def ingr_and_IDs(N_max,ingredient):\n",
    "    max_num = 428275\n",
    "    ingredients = []\n",
    "    for item in allnodes_train['nodes']:\n",
    "        ingredients.append(item['ingredients'])\n",
    "    IDs = []\n",
    "    for item in allnodes_train['nodes']:\n",
    "        IDs.append(item['r_id'])\n",
    "#vary N to produce longer list\n",
    "    #N = 60\n",
    "    #max(428275)\n",
    "    ingr_list = ingredients[0:N_max]\n",
    "\n",
    "\n",
    "    IDs_list = IDs[0:N_max]\n",
    "\n",
    "\n",
    "    ingredients_df = pd.DataFrame({'Name': ingr_list, 'ID': IDs_list})\n",
    "    ingr_DF = ingredients_df.sort_values(['Name'], ascending = False)\n",
    "    dff = ingr_DF.loc[ingr_DF['Name'] == ingredient]\n",
    "    return dff\n",
    "    \n",
    "from IPython.display import display\n",
    "text = widgets.Text()\n",
    "display('SEARCH INGREDIENT IDs')    \n",
    "interact(ingr_and_IDs, N_max = widgets.IntSlider(min=1,max=10000,step=20,description = 'less recipes'), ingredient='salt')\n",
    "\n",
    "#ingr_and_IDs(10)"
   ]
  },
  {
   "cell_type": "markdown",
   "metadata": {
    "extensions": {
     "jupyter_dashboards": {
      "version": 1,
      "views": {
       "grid_default": {
        "col": 4,
        "height": 4,
        "hidden": true,
        "row": 0,
        "width": 4
       },
       "report_default": {
        "hidden": false
       }
      }
     }
    }
   },
   "source": [
    "# Search Recipes with particular ingredient"
   ]
  },
  {
   "cell_type": "markdown",
   "metadata": {
    "extensions": {
     "jupyter_dashboards": {
      "version": 1,
      "views": {
       "grid_default": {
        "hidden": true
       },
       "report_default": {
        "hidden": false
       }
      }
     }
    }
   },
   "source": [
    ".. what is the recipe \"garlic powder\" is listed under recipe ID 20130 think about how to combine those ingredients?"
   ]
  },
  {
   "cell_type": "code",
   "execution_count": 5,
   "metadata": {
    "extensions": {
     "jupyter_dashboards": {
      "version": 1,
      "views": {
       "grid_default": {
        "col": 5,
        "height": 12,
        "hidden": false,
        "row": 73,
        "width": 6
       },
       "report_default": {
        "hidden": false
       }
      }
     }
    }
   },
   "outputs": [
    {
     "data": {
      "text/plain": [
       "'Search Recipes with particular ingredient. EXAMPLE: what is the recipe \"garlic powder\" is listed under recipe ID 20130 think about how to combine those ingredients?'"
      ]
     },
     "metadata": {},
     "output_type": "display_data"
    },
    {
     "data": {
      "application/vnd.jupyter.widget-view+json": {
       "model_id": "c9f0f81f240b444c90e636f9db3574ac",
       "version_major": 2,
       "version_minor": 0
      },
      "text/plain": [
       "A Jupyter Widget"
      ]
     },
     "metadata": {},
     "output_type": "display_data"
    },
    {
     "data": {
      "text/plain": [
       "<function __main__.recipe_search>"
      ]
     },
     "execution_count": 5,
     "metadata": {},
     "output_type": "execute_result"
    }
   ],
   "source": [
    "def recipe_search(ID):\n",
    "    recipe = []\n",
    "    for item in allnodes_train['nodes']:\n",
    "        if item['r_id'] == ID:\n",
    "            recipe.append(item['ingredients'])\n",
    "    print(recipe)\n",
    "\n",
    "from IPython.display import display\n",
    "widgets.IntText(\n",
    "    value=7,\n",
    "    description='Any:',\n",
    "    disabled=False\n",
    ")\n",
    "#rec_ID = widgets.Text()\n",
    "#display(rec_ID)\n",
    "\n",
    "#def handle_submit(sender):\n",
    "from IPython.display import display\n",
    "text = widgets.Text()\n",
    "display('Search Recipes with particular ingredient. EXAMPLE: what is the recipe \"garlic powder\" is listed under recipe ID 20130 think about how to combine those ingredients?')  \n",
    "interact(recipe_search,ID=widgets.IntText(\n",
    "    \n",
    "    description='recipe ID',\n",
    "    disabled=False\n",
    "))\n",
    "#rec_ID.on_submit(handle_submit)\n",
    "#recipe_search(45423)   \n",
    "#interact(recipe_search, ID=45423)"
   ]
  },
  {
   "cell_type": "markdown",
   "metadata": {
    "extensions": {
     "jupyter_dashboards": {
      "version": 1,
      "views": {
       "grid_default": {
        "col": 5,
        "height": 3,
        "hidden": false,
        "row": 54,
        "width": 6
       },
       "report_default": {
        "hidden": false
       }
      }
     }
    }
   },
   "source": [
    "# How many ingredients are in each cuisine?"
   ]
  },
  {
   "cell_type": "markdown",
   "metadata": {
    "extensions": {
     "jupyter_dashboards": {
      "version": 1,
      "views": {
       "grid_default": {
        "col": 4,
        "height": 4,
        "hidden": true,
        "row": 0,
        "width": 4
       },
       "report_default": {
        "hidden": false
       }
      }
     }
    }
   },
   "source": [
    "... using original train.json file"
   ]
  },
  {
   "cell_type": "code",
   "execution_count": 6,
   "metadata": {
    "extensions": {
     "jupyter_dashboards": {
      "version": 1,
      "views": {
       "grid_default": {
        "col": 5,
        "height": 14,
        "hidden": false,
        "row": 57,
        "width": 6
       },
       "report_default": {
        "hidden": false
       }
      }
     }
    }
   },
   "outputs": [
    {
     "data": {
      "application/vnd.jupyter.widget-view+json": {
       "model_id": "fdf1c1dec9074e0791baf998805404a5",
       "version_major": 2,
       "version_minor": 0
      },
      "text/plain": [
       "A Jupyter Widget"
      ]
     },
     "metadata": {},
     "output_type": "display_data"
    },
    {
     "data": {
      "text/plain": [
       "'How many ingredients are in each cuisine?'"
      ]
     },
     "metadata": {},
     "output_type": "display_data"
    }
   ],
   "source": [
    "#calculates how many recepes per quisine -total number\n",
    "#modified version\n",
    "results_file = open('./train.json')#using original json file where recipe's \n",
    "#IDs are present per recipe\n",
    "results_str = results_file.read()\n",
    "results_train = json.loads(results_str)\n",
    "#need to remove Southern_US and cajun_creole cuisine as cannot link to a\n",
    "#particular country\n",
    "def ingr_per_cuisine():\n",
    "    cuisines_list = ['brazilian', 'british', 'chinese', 'filipino', 'french', 'greek', 'indian', 'irish', 'italian', 'jamaican', 'japanese', 'korean', 'mexican', 'moroccan', 'russian', 'spanish', 'thai', 'vietnamese']\n",
    "    recipe_count_list = []\n",
    "    cu_names_list = []\n",
    "    for cu in cuisines_list:\n",
    "        list_id_cu = []#\n",
    "    \n",
    "   \n",
    "        for item in results_train:\n",
    "        \n",
    "            if item['cuisine'] == cu:\n",
    "           \n",
    "                list_id_cu.append(item[\"id\"])\n",
    "           \n",
    "        recipe_count_list.append(len(list_id_cu))\n",
    "        cu_names_list.append(cu)\n",
    "    #print(cu,',total number of recepes:',len(list_id_cu))\n",
    "    \n",
    "#print(recipe_count_list)\n",
    "\n",
    "#print(cu_names_list)\n",
    "\n",
    "#Generating the recipe_count dictionary\n",
    "    recipe_count = dict(itertools.zip_longest(cu_names_list,recipe_count_list ))\n",
    "#print(recipe_count)\n",
    "\n",
    "#Generating recipe_count DataFrame\n",
    "    recipe_count_DF = pd.DataFrame({'cuisine_name': cu_names_list,'total_num': recipe_count_list})\n",
    "    sorted_cu_list = recipe_count_DF.sort_values([\"total_num\"], ascending = False)\n",
    "    return sorted_cu_list\n",
    "\n",
    "from IPython.display import display\n",
    "button = button = widgets.Button(description = 'click me!')\n",
    "display(button)\n",
    "text = widgets.Text()\n",
    "display('How many ingredients are in each cuisine?')  \n",
    "\n",
    "\n",
    "def on_button_clicked(b):\n",
    "    print(ingr_per_cuisine())\n",
    "button.on_click(on_button_clicked)    \n",
    "\n"
   ]
  },
  {
   "cell_type": "markdown",
   "metadata": {
    "extensions": {
     "jupyter_dashboards": {
      "version": 1,
      "views": {
       "grid_default": {
        "col": 0,
        "height": 4,
        "hidden": true,
        "row": 19,
        "width": 12
       },
       "report_default": {
        "hidden": false
       }
      }
     }
    }
   },
   "source": [
    "# what is the \"saltiest\"(\"sweetest\", \"spyciest\"..) cuisine?"
   ]
  },
  {
   "cell_type": "markdown",
   "metadata": {
    "extensions": {
     "jupyter_dashboards": {
      "version": 1,
      "views": {
       "grid_default": {
        "col": 8,
        "height": 4,
        "hidden": true,
        "row": 0,
        "width": 4
       },
       "report_default": {
        "hidden": false
       }
      }
     }
    }
   },
   "source": [
    "... by absolute number of recipes that contain the ingredient like salt, sugar..."
   ]
  },
  {
   "cell_type": "markdown",
   "metadata": {
    "extensions": {
     "jupyter_dashboards": {
      "version": 1,
      "views": {
       "grid_default": {
        "col": 0,
        "height": 3,
        "hidden": false,
        "row": 36,
        "width": 12
       },
       "report_default": {
        "hidden": false
       }
      }
     }
    }
   },
   "source": [
    "# Cuisines by % of given ingredient in recipes,\n",
    "e.g. what % of recipes in Italian cusine contains ingredient \"salt\"(bar chart & Table) "
   ]
  },
  {
   "cell_type": "code",
   "execution_count": 7,
   "metadata": {
    "extensions": {
     "jupyter_dashboards": {
      "version": 1,
      "views": {
       "grid_default": {
        "col": 5,
        "height": 15,
        "hidden": false,
        "row": 39,
        "width": 7
       },
       "report_default": {
        "hidden": true
       }
      }
     }
    },
    "scrolled": true
   },
   "outputs": [
    {
     "data": {
      "application/vnd.jupyter.widget-view+json": {
       "model_id": "baa746783ac54b4bb12bcdff1c5f102c",
       "version_major": 2,
       "version_minor": 0
      },
      "text/plain": [
       "A Jupyter Widget"
      ]
     },
     "metadata": {},
     "output_type": "display_data"
    },
    {
     "data": {
      "text/plain": [
       "'enter ingredient'"
      ]
     },
     "metadata": {},
     "output_type": "display_data"
    }
   ],
   "source": [
    "from pylab import rcParams\n",
    "rcParams['figure.figsize'] = 10, 6\n",
    "results_file = open('./results_nodes_only.json')\n",
    "results_str = results_file.read()\n",
    "results = json.loads(results_str)\n",
    "nodes = results['node']\n",
    "\n",
    "recipe_count={'brazilian':467,'british':804,'cajun_creole':1546,'chinese':2673,'filipino':755,\\\n",
    "               'french':2646,'greek':1175,'indian':3003,'irish':667,'italian':7838,'jamaican':526,\\\n",
    "               'japanese':1423,'korean':830,'mexican':6438,'moroccan':821,'russian':489,'southern_us':4320,\\\n",
    "               'spanish':989,'thai':1539,'vietnamese':825}\n",
    "def percent_ing_cu1(ing):\n",
    "    \n",
    "    size_list=[]\n",
    "    node_list=[]\n",
    "    ing_cuisine_count = {}\n",
    "\n",
    "    for i in range(len(nodes)):\n",
    "        if nodes[i]['name']== ing:\n",
    "            for j in range(len(nodes[i]['occurence'])-1):\n",
    "                node_list.append((nodes[i]['occurence'][j+1]['cuisine']))\n",
    "            \n",
    "                size_list.append(int((nodes[i]['occurence'][j+1]['num'])/recipe_count[nodes[i]['occurence'][j+1]['cuisine']]*100))\n",
    "    for i in range(len(node_list)):\n",
    "    #calcualate % of the ingresident in this cuisine recipes\n",
    "        ing_cuisine_count[node_list[i]]=size_list[i]\n",
    "\n",
    "#print(\"ingredient occurence %,dictionary format\",ing_cuisine_count)\n",
    "\n",
    "\n",
    "    cuisine_nodes = ['brazilian', 'british', 'cajun_creole', 'chinese', 'filipino', 'french', 'greek', 'indian', 'irish', 'italian', 'jamaican', 'japanese', 'korean', 'mexican', 'moroccan', 'russian', 'southern_us', 'spanish', 'thai', 'vietnamese']\n",
    "#calculating percentge (using ing_cuisine_count dictionary generated above)\n",
    "    percent_ing=[ing_cuisine_count[c] for c in cuisine_nodes if c in ing_cuisine_count]\n",
    "#print(percent_ing)\n",
    "\n",
    "#create the DataFrame cuisine vs % ingredients in recipes\n",
    "\n",
    "    percent_ing_DF = pd.DataFrame({'% ingredient': percent_ing, 'cuisine_name': cuisine_nodes})\n",
    "\n",
    "#percent_ing_DF\n",
    "    #print(\"TABLE for ingredient:\",ing)\n",
    "#percent_ing_DF\n",
    "    #return percent_ing_DF.sort_values(['% ingredient','cuisine_name'], ascending =  False)\n",
    "    percent_ing_DF.plot.bar(x = 'cuisine_name', y = '% ingredient', color = 'green',label = ing)\n",
    "#ax.set_xlabel(\"% recipes that contain ingredient\")\n",
    "    plt.show()\n",
    "\n",
    "#bar plot for % recipes with ingredient (e.g. salt)\n",
    "#percent_ing_cu('sugar')\n",
    "from IPython.display import display\n",
    "\n",
    "text = widgets.Text()\n",
    "display(text)\n",
    "\n",
    "def handle_submit(sender):\n",
    "    interact(percent_ing_cu1, ing = text.value)\n",
    "text.on_submit(handle_submit)\n",
    "text1 = widgets.Text()\n",
    "text1 = 'enter ingredient'\n",
    "display(text1)"
   ]
  },
  {
   "cell_type": "markdown",
   "metadata": {
    "collapsed": true,
    "extensions": {
     "jupyter_dashboards": {
      "version": 1,
      "views": {
       "grid_default": {
        "hidden": true
       },
       "report_default": {
        "hidden": true
       }
      }
     }
    }
   },
   "source": [
    "# Cuisines by % of given ingredient in recipes (TABLE)"
   ]
  },
  {
   "cell_type": "code",
   "execution_count": 8,
   "metadata": {
    "extensions": {
     "jupyter_dashboards": {
      "version": 1,
      "views": {
       "grid_default": {
        "col": 0,
        "height": 32,
        "hidden": false,
        "row": 39,
        "width": 5
       },
       "report_default": {
        "hidden": false
       }
      }
     }
    }
   },
   "outputs": [
    {
     "data": {
      "text/plain": [
       "'Visualization of ingredient prevalence in cuisines'"
      ]
     },
     "metadata": {},
     "output_type": "display_data"
    },
    {
     "data": {
      "application/vnd.jupyter.widget-view+json": {
       "model_id": "32d00efca2184371958cd00572c3731d",
       "version_major": 2,
       "version_minor": 0
      },
      "text/plain": [
       "A Jupyter Widget"
      ]
     },
     "metadata": {},
     "output_type": "display_data"
    },
    {
     "data": {
      "text/plain": [
       "<function __main__.percent_ing_cu>"
      ]
     },
     "execution_count": 8,
     "metadata": {},
     "output_type": "execute_result"
    }
   ],
   "source": [
    "results_file = open('./results_nodes_only.json')\n",
    "results_str = results_file.read()\n",
    "results = json.loads(results_str)\n",
    "nodes = results['node']\n",
    "\n",
    "recipe_count={'brazilian':467,'british':804,'cajun_creole':1546,'chinese':2673,'filipino':755,\\\n",
    "               'french':2646,'greek':1175,'indian':3003,'irish':667,'italian':7838,'jamaican':526,\\\n",
    "               'japanese':1423,'korean':830,'mexican':6438,'moroccan':821,'russian':489,'southern_us':4320,\\\n",
    "               'spanish':989,'thai':1539,'vietnamese':825}\n",
    "def percent_ing_cu(ing):\n",
    "    \n",
    "    size_list=[]\n",
    "    node_list=[]\n",
    "    ing_cuisine_count = {}\n",
    "\n",
    "    for i in range(len(nodes)):\n",
    "        if nodes[i]['name']== ing:\n",
    "            for j in range(len(nodes[i]['occurence'])-1):\n",
    "                node_list.append((nodes[i]['occurence'][j+1]['cuisine']))\n",
    "            \n",
    "                size_list.append(int((nodes[i]['occurence'][j+1]['num'])/recipe_count[nodes[i]['occurence'][j+1]['cuisine']]*100))\n",
    "    for i in range(len(node_list)):\n",
    "    #calcualate % of the ingresident in this cuisine recipes\n",
    "        ing_cuisine_count[node_list[i]]=size_list[i]\n",
    "\n",
    "#print(\"ingredient occurence %,dictionary format\",ing_cuisine_count)\n",
    "\n",
    "\n",
    "    cuisine_nodes = ['brazilian', 'british', 'cajun_creole', 'chinese', 'filipino', 'french', 'greek', 'indian', 'irish', 'italian', 'jamaican', 'japanese', 'korean', 'mexican', 'moroccan', 'russian', 'southern_us', 'spanish', 'thai', 'vietnamese']\n",
    "#calculating percentge (using ing_cuisine_count dictionary generated above)\n",
    "    percent_ing=[ing_cuisine_count[c] for c in cuisine_nodes if c in ing_cuisine_count]\n",
    "#print(percent_ing)\n",
    "    \n",
    "#create the DataFrame cuisine vs % ingredients in recipes\n",
    "\n",
    "    percent_ing_DF = pd.DataFrame({'% ingredient': percent_ing, 'cuisine_name': cuisine_nodes})\n",
    "\n",
    "#percent_ing_DF\n",
    "    \n",
    "#percent_ing_DF\n",
    "    percent_ing_DF.sort_values(['% ingredient','cuisine_name'], ascending =  False)\n",
    "    print(\"TABLE for ingredient:\",ing)\n",
    "#percent_ing_DF\n",
    "    return percent_ing_DF.sort_values(['% ingredient','cuisine_name'], ascending =  False)\n",
    "\n",
    "\n",
    "text = widgets.Text()\n",
    "display('Visualization of ingredient prevalence in cuisines')\n",
    "\n",
    "\n",
    "\n",
    "interact(percent_ing_cu, ing = '')\n",
    "    \n",
    "\n"
   ]
  },
  {
   "cell_type": "markdown",
   "metadata": {
    "extensions": {
     "jupyter_dashboards": {
      "version": 1,
      "views": {
       "grid_default": {
        "col": 8,
        "height": 4,
        "hidden": true,
        "row": 0,
        "width": 4
       },
       "report_default": {
        "hidden": false
       }
      }
     }
    }
   },
   "source": [
    "Plotting as bar chart the ingredient prevalence in cuisines"
   ]
  },
  {
   "cell_type": "markdown",
   "metadata": {
    "extensions": {
     "jupyter_dashboards": {
      "version": 1,
      "views": {
       "grid_default": {
        "hidden": true
       },
       "report_default": {
        "hidden": false
       }
      }
     }
    }
   },
   "source": [
    "Connection to diseases data http://www.worldlifeexpectancy.com/life-expectancy-research"
   ]
  },
  {
   "cell_type": "markdown",
   "metadata": {
    "extensions": {
     "jupyter_dashboards": {
      "version": 1,
      "views": {
       "grid_default": {
        "col": 0,
        "height": 4,
        "hidden": true,
        "row": 20,
        "width": 12
       },
       "report_default": {
        "hidden": false
       }
      }
     }
    }
   },
   "source": [
    "Connection to happiness http://worldhappiness.report/ed/2017/"
   ]
  },
  {
   "cell_type": "markdown",
   "metadata": {
    "extensions": {
     "jupyter_dashboards": {
      "version": 1,
      "views": {
       "grid_default": {
        "col": 0,
        "height": 2,
        "hidden": false,
        "row": 85,
        "width": 12
       },
       "report_default": {
        "hidden": false
       }
      }
     }
    }
   },
   "source": [
    "# FOOD and HAPPINESS connection"
   ]
  },
  {
   "cell_type": "code",
   "execution_count": 9,
   "metadata": {
    "extensions": {
     "jupyter_dashboards": {
      "version": 1,
      "views": {
       "grid_default": {
        "col": 0,
        "height": 17,
        "hidden": false,
        "row": 87,
        "width": 12
       },
       "report_default": {
        "hidden": false
       }
      }
     }
    },
    "scrolled": false
   },
   "outputs": [
    {
     "data": {
      "application/vnd.jupyter.widget-view+json": {
       "model_id": "1f2fce311aba4f9eaec29111ad45e8fc",
       "version_major": 2,
       "version_minor": 0
      },
      "text/plain": [
       "A Jupyter Widget"
      ]
     },
     "metadata": {},
     "output_type": "display_data"
    },
    {
     "data": {
      "text/plain": [
       "<function __main__.happiness>"
      ]
     },
     "execution_count": 9,
     "metadata": {},
     "output_type": "execute_result"
    }
   ],
   "source": [
    "happ = pd.read_csv('./Happiness.csv')\n",
    "#happ.sort_values(['Country'], ascending = True)\n",
    "####\n",
    "hap_co = happ['Country'].tolist()\n",
    "ind_l = []\n",
    "\n",
    "cuisine_nodes_country = ['Brazil', 'South Korea', 'United Kingdom','China', 'Philippines', 'France', 'Greece', 'India', 'Ireland', 'Italy', 'Jamaica', 'Japan', 'Mexico', 'Morocco', 'Russia', 'Spain', 'Thailand', 'Vietnam']\n",
    "\n",
    "for index, item in enumerate(hap_co):\n",
    "    if item in cuisine_nodes_country:\n",
    "        ind_l.append(index)  \n",
    "#print(ind_l)\n",
    "\n",
    "####\n",
    "happ1 = happ.loc[ind_l]\n",
    "\n",
    "happ1.sort_values(['Country'])\n",
    "happ1['Country']=happ1['Country'].replace({'Brazil': 'brazilian', 'China': 'chinese','France': 'french', 'Greece': 'greek', 'India': 'indian','Ireland': 'irish','Italy': 'italian','Jamaica': 'jamaican','Japan': 'japanese','Mexico': 'mexican','Morocco': 'moroccan','Philippines': 'filipino','Russia': 'russian', 'South Korea':'korean','Spain':'spanish','Thailand':'thai','United Kingdom':'british','Vietnam':'vietnamese'})\n",
    "happ1_sorted = happ1.sort_values(['Country'])\n",
    "#happ1_sorted \n",
    "\n",
    "\n",
    "####\n",
    "\n",
    "results_file = open('./results_nodes_only.json')\n",
    "results_str = results_file.read()\n",
    "results = json.loads(results_str)\n",
    "nodes = results['node']\n",
    "\n",
    "recipe_count={'brazilian':467,'british':804,'cajun_creole':1546,'chinese':2673,'filipino':755,\\\n",
    "               'french':2646,'greek':1175,'indian':3003,'irish':667,'italian':7838,'jamaican':526,\\\n",
    "               'japanese':1423,'korean':830,'mexican':6438,'moroccan':821,'russian':489,'southern_us':4320,\\\n",
    "               'spanish':989,'thai':1539,'vietnamese':825}\n",
    "def happiness(ing):\n",
    "    \n",
    "    size_list=[]\n",
    "    node_list=[]\n",
    "    ing_cuisine_count = {}\n",
    "\n",
    "    for i in range(len(nodes)):\n",
    "        if nodes[i]['name']== ing:\n",
    "            for j in range(len(nodes[i]['occurence'])-1):\n",
    "                node_list.append((nodes[i]['occurence'][j+1]['cuisine']))\n",
    "            \n",
    "                size_list.append(int((nodes[i]['occurence'][j+1]['num'])/recipe_count[nodes[i]['occurence'][j+1]['cuisine']]*100))\n",
    "    for i in range(len(node_list)):\n",
    "    #calcualate % of the ingresident in this cuisine recipes\n",
    "        ing_cuisine_count[node_list[i]]=size_list[i]\n",
    "\n",
    "#print(\"ingredient occurence %,dictionary format\",ing_cuisine_count)\n",
    "\n",
    "#cuisine list below excludes cajun_creole and Southern_US\n",
    "\n",
    "    cuisine_nodes = ['brazilian', 'british', 'chinese', 'filipino', 'french', 'greek', 'indian', 'irish', 'italian', 'jamaican', 'japanese', 'korean', 'mexican', 'moroccan', 'russian', 'spanish', 'thai', 'vietnamese']\n",
    "#calculating percentge (using ing_cuisine_count dictionary generated above)\n",
    "    percent_ing=[ing_cuisine_count[c] for c in cuisine_nodes if c in ing_cuisine_count]\n",
    "#print(percent_ing)\n",
    "\n",
    "#create the DataFrame cuisine vs % ingredients in recipes\n",
    "\n",
    "    percent_ing_DF = pd.DataFrame({'% ingredient': percent_ing, 'cuisine_name': cuisine_nodes})\n",
    "#print(\"TABLE for ingredient:\",ing)\n",
    "#percent_ing_DF\n",
    "#percent_ing_DF.sort_values(['% ingredient','cuisine_name'], ascending =  False)\n",
    "#eliminate the \"0%\"ingredient\n",
    "    #percent_ing_DF = percent_ing_DF_0[percent_ing_DF_0['% ingredient'] > 0]\n",
    "    \n",
    "#####\n",
    "    percent_ing_DF_sorted = percent_ing_DF.sort_values(['cuisine_name'], ascending =  True)\n",
    "    #percent_ing_DF_sorted\n",
    "#####\n",
    "    percent_ing_DF_sorted['happiness'] = happ1_sorted['Happiness score'].tolist()\n",
    "    #print(percent_ing_DF_sorted)\n",
    "#exclude rows with % ngredient = 0\n",
    "    h = percent_ing_DF_sorted[percent_ing_DF_sorted['% ingredient'] > 0]\n",
    "    #print(\"final df\",h)\n",
    "    \n",
    "    \n",
    "    h.plot.scatter(title = ing, x='% ingredient', y='happiness', c = 'b',s = 80)\n",
    "    \n",
    "interact(happiness, ing = '')\n",
    "\n",
    "\n"
   ]
  },
  {
   "cell_type": "markdown",
   "metadata": {
    "extensions": {
     "jupyter_dashboards": {
      "version": 1,
      "views": {
       "grid_default": {
        "col": 0,
        "height": 2,
        "hidden": false,
        "row": 104,
        "width": 9
       },
       "report_default": {}
      }
     }
    }
   },
   "source": [
    "# Regresson analysis"
   ]
  },
  {
   "cell_type": "code",
   "execution_count": 10,
   "metadata": {
    "extensions": {
     "jupyter_dashboards": {
      "version": 1,
      "views": {
       "grid_default": {
        "col": 0,
        "height": 54,
        "hidden": false,
        "row": 106,
        "width": 9
       },
       "report_default": {}
      }
     }
    },
    "scrolled": true
   },
   "outputs": [
    {
     "data": {
      "application/vnd.jupyter.widget-view+json": {
       "model_id": "d742829a4c5a4839a20b157c648be801",
       "version_major": 2,
       "version_minor": 0
      },
      "text/plain": [
       "A Jupyter Widget"
      ]
     },
     "metadata": {},
     "output_type": "display_data"
    },
    {
     "data": {
      "text/plain": [
       "<function __main__.happiness>"
      ]
     },
     "execution_count": 10,
     "metadata": {},
     "output_type": "execute_result"
    }
   ],
   "source": [
    "import numpy as np\n",
    "import pandas\n",
    "from pandas import DataFrame, Series\n",
    "import statsmodels.formula.api as sm\n",
    "from sklearn.linear_model import LinearRegression\n",
    "import scipy, scipy.stats\n",
    "\n",
    "happ = pd.read_csv('./Happiness.csv')\n",
    "#happ.sort_values(['Country'], ascending = True)\n",
    "####\n",
    "hap_co = happ['Country'].tolist()\n",
    "ind_l = []\n",
    "\n",
    "cuisine_nodes_country = ['Brazil', 'South Korea', 'United Kingdom','China', 'Philippines', 'France', 'Greece', 'India', 'Ireland', 'Italy', 'Jamaica', 'Japan', 'Mexico', 'Morocco', 'Russia', 'Spain', 'Thailand', 'Vietnam']\n",
    "\n",
    "for index, item in enumerate(hap_co):\n",
    "    if item in cuisine_nodes_country:\n",
    "        ind_l.append(index)  \n",
    "#print(ind_l)\n",
    "\n",
    "####\n",
    "happ1 = happ.loc[ind_l]\n",
    "\n",
    "happ1.sort_values(['Country'])\n",
    "happ1['Country']=happ1['Country'].replace({'Brazil': 'brazilian', 'China': 'chinese','France': 'french', 'Greece': 'greek', 'India': 'indian','Ireland': 'irish','Italy': 'italian','Jamaica': 'jamaican','Japan': 'japanese','Mexico': 'mexican','Morocco': 'moroccan','Philippines': 'filipino','Russia': 'russian', 'South Korea':'korean','Spain':'spanish','Thailand':'thai','United Kingdom':'british','Vietnam':'vietnamese'})\n",
    "happ1_sorted = happ1.sort_values(['Country'])\n",
    "#happ1_sorted \n",
    "\n",
    "\n",
    "####\n",
    "\n",
    "results_file = open('./results_nodes_only.json')\n",
    "results_str = results_file.read()\n",
    "results = json.loads(results_str)\n",
    "nodes = results['node']\n",
    "\n",
    "recipe_count={'brazilian':467,'british':804,'cajun_creole':1546,'chinese':2673,'filipino':755,\\\n",
    "               'french':2646,'greek':1175,'indian':3003,'irish':667,'italian':7838,'jamaican':526,\\\n",
    "               'japanese':1423,'korean':830,'mexican':6438,'moroccan':821,'russian':489,'southern_us':4320,\\\n",
    "               'spanish':989,'thai':1539,'vietnamese':825}\n",
    "def happiness(ing):\n",
    "    \n",
    "    size_list=[]\n",
    "    node_list=[]\n",
    "    ing_cuisine_count = {}\n",
    "\n",
    "    for i in range(len(nodes)):\n",
    "        if nodes[i]['name']== ing:\n",
    "            for j in range(len(nodes[i]['occurence'])-1):\n",
    "                node_list.append((nodes[i]['occurence'][j+1]['cuisine']))\n",
    "            \n",
    "                size_list.append(int((nodes[i]['occurence'][j+1]['num'])/recipe_count[nodes[i]['occurence'][j+1]['cuisine']]*100))\n",
    "    for i in range(len(node_list)):\n",
    "    #calcualate % of the ingresident in this cuisine recipes\n",
    "        ing_cuisine_count[node_list[i]]=size_list[i]\n",
    "\n",
    "#print(\"ingredient occurence %,dictionary format\",ing_cuisine_count)\n",
    "\n",
    "#cuisine list below excludes cajun_creole and Southern_US\n",
    "\n",
    "    cuisine_nodes = ['brazilian', 'british', 'chinese', 'filipino', 'french', 'greek', 'indian', 'irish', 'italian', 'jamaican', 'japanese', 'korean', 'mexican', 'moroccan', 'russian', 'spanish', 'thai', 'vietnamese']\n",
    "#calculating percentge (using ing_cuisine_count dictionary generated above)\n",
    "    percent_ing=[ing_cuisine_count[c] for c in cuisine_nodes if c in ing_cuisine_count]\n",
    "#print(percent_ing)\n",
    "\n",
    "#create the DataFrame cuisine vs % ingredients in recipes\n",
    "\n",
    "    percent_ing_DF = pd.DataFrame({'% ingredient': percent_ing, 'cuisine_name': cuisine_nodes})\n",
    "#print(\"TABLE for ingredient:\",ing)\n",
    "#percent_ing_DF\n",
    "#percent_ing_DF.sort_values(['% ingredient','cuisine_name'], ascending =  False)\n",
    "#eliminate the \"0%\"ingredient\n",
    "    #percent_ing_DF = percent_ing_DF_0[percent_ing_DF_0['% ingredient'] > 0]\n",
    "    \n",
    "#####\n",
    "    percent_ing_DF_sorted = percent_ing_DF.sort_values(['cuisine_name'], ascending =  True)\n",
    "#percent_ing_DF_sorted\n",
    "#####\n",
    "    percent_ing_DF_sorted['happiness'] = happ1_sorted['Happiness score'].tolist()\n",
    "    #print(percent_ing_DF_sorted)\n",
    "\n",
    "    h = percent_ing_DF_sorted[percent_ing_DF_sorted['% ingredient'] > 0]\n",
    "    #plotting regression\n",
    "    import seaborn as sns\n",
    "    sns.regplot(x='% ingredient', y='happiness', data=h)\n",
    "\n",
    "    #generating regr. analysis results:\n",
    "    X = h[\"% ingredient\"]\n",
    "    Y = h[\"happiness\"]\n",
    "\n",
    "    result = sm.OLS( Y, X ).fit()\n",
    "    print(result.summary())\n",
    "    return h\n",
    "    \n",
    "interact(happiness,ing = 'water')\n",
    "\n"
   ]
  },
  {
   "cell_type": "code",
   "execution_count": 11,
   "metadata": {
    "collapsed": true
   },
   "outputs": [],
   "source": [
    "from IPython.core.display import display, HTML\n",
    "from string import Template\n",
    "import pandas as pd\n",
    "import json, random"
   ]
  },
  {
   "cell_type": "code",
   "execution_count": 12,
   "metadata": {},
   "outputs": [
    {
     "data": {
      "text/html": [
       "\n",
       "<script src=\"lib/sigmajs/sigma.min.js\"></script>\n",
       "<script src=\"js/sigma-add-method-neighbors.js\"></script>\n"
      ],
      "text/plain": [
       "<IPython.core.display.HTML object>"
      ]
     },
     "execution_count": 12,
     "metadata": {},
     "output_type": "execute_result"
    }
   ],
   "source": [
    "HTML('''\n",
    "<script src=\"lib/sigmajs/sigma.min.js\"></script>\n",
    "<script src=\"js/sigma-add-method-neighbors.js\"></script>\n",
    "''')"
   ]
  },
  {
   "cell_type": "code",
   "execution_count": 13,
   "metadata": {
    "collapsed": true
   },
   "outputs": [],
   "source": [
    "from ipywidgets import widgets\n",
    "from ipywidgets import *\n",
    "import numpy as np\n",
    "import pandas as pd\n",
    "from pandas import Series, DataFrame\n",
    "import networkx as nx\n",
    "import matplotlib.pyplot as plt\n",
    "from pylab import rcParams\n",
    "rcParams['figure.figsize'] = 10, 10\n",
    "import json\n",
    "import itertools\n",
    "#%matplotlib inline\n",
    "#to open sep windows: Kernel > Restart & Clear Output, then run this\n",
    "#%matplotlib tk\n",
    "\n",
    "# Read 'results.json' directly into a python dictionary.  The results file only has the \"node\" section\n",
    "# results.json(all,nodes only.json looks like this:\n",
    "#{\"node\": [{\"name\": \"salt\", \"occurence\": [{\"cuisine\": \"all_cuisines\", \"num\": 0}, {\"cuisine\": \"brazilian\", \"num\": 194},\n",
    "#{\"cuisine\": \"british\", \"num\": 407}, #{\"cuisine\": \"cajun_creole\", \"num\": 743}, {\"cuisine\": \"chinese\", \"num\": 907},\n",
    "#{\"cuisine\": \"filipino\", \"num\": 421}, {\"cuisine\": \"french\", \"num\": 1203}, {\"cuisine\": \"greek\", \"num\": 572},...\n",
    "#results(all, nodes only)\n",
    "\n",
    "# Read 'results.json' directly into python dictionary\n",
    "\n",
    "results_file = open('./results_nodes_only.json')#using NOT so Light json\n",
    "results_str = results_file.read()\n",
    "results = json.loads(results_str)\n",
    "nodes = results['node']\n",
    "\n",
    "\n",
    "# Load results data into node and link lists\n",
    "\n",
    "#def Graph_plot(min_aff,ing_labels):\n",
    "link_list=[]\n",
    "   \n",
    "for ing in nodes:\n",
    "    for x in ing['occurence']:\n",
    "        if x['num'] > 200:# min number of affinities (num(min))change this to visualize less or more\n",
    "            link_list.append(tuple([ing['name'],x['cuisine']]))\n",
    "\n",
    "#convert the list of tupples to a list of nodes, i.e, [('brazilain', salt)... --> ['brazilain, salt,...] ising itertools and use set to eliminate duplciates.\n",
    "\n",
    "node_list =(set(list(itertools.chain(*link_list))))\n",
    "\n",
    "#Set graph\n",
    "Food_Graph = nx.Graph()\n",
    "\n",
    "#add edges to Food_Graph\n",
    "#print('NODES:', node_list)\n",
    "#print('LINKS:', link_list)\n",
    "Food_Graph.add_edges_from(link_list)\n",
    "\n",
    "#add nodes to Food_Graph <-- Ist thsi necessary???\n",
    "\n",
    "Food_Graph.add_nodes_from(node_list)\n",
    "\n",
    "# visualize as force-directed graph in D3\n",
    "##HTML( d3_lib.set_styles(['force_directed_graph']) + \\\n",
    "     #### '<script src=\"lib/d3/d3.min.js\"></script>' + \\\n",
    "     # d3_lib.draw_graph('force_directed_graph', {'data': Food_Graph}) )"
   ]
  },
  {
   "cell_type": "markdown",
   "metadata": {
    "collapsed": true
   },
   "source": [
    "runnng jupyter on AWS EC2\n",
    "https://medium.com/@josemarcialportilla/getting-spark-python-and-jupyter-notebook-running-on-amazon-ec2-dec599e1c297"
   ]
  },
  {
   "cell_type": "markdown",
   "metadata": {},
   "source": [
    "# Graph parameters"
   ]
  },
  {
   "cell_type": "code",
   "execution_count": 14,
   "metadata": {},
   "outputs": [
    {
     "ename": "AttributeError",
     "evalue": "'DegreeView' object has no attribute 'items'",
     "output_type": "error",
     "traceback": [
      "\u001b[0;31m---------------------------------------------------------------------------\u001b[0m",
      "\u001b[0;31mAttributeError\u001b[0m                            Traceback (most recent call last)",
      "\u001b[0;32m<ipython-input-14-41d8390652f2>\u001b[0m in \u001b[0;36m<module>\u001b[0;34m()\u001b[0m\n\u001b[1;32m     10\u001b[0m \u001b[0mnx\u001b[0m\u001b[0;34m.\u001b[0m\u001b[0mdraw\u001b[0m\u001b[0;34m(\u001b[0m\u001b[0mG\u001b[0m\u001b[0;34m)\u001b[0m\u001b[0;34m\u001b[0m\u001b[0m\n\u001b[1;32m     11\u001b[0m \u001b[0;34m\u001b[0m\u001b[0m\n\u001b[0;32m---> 12\u001b[0;31m \u001b[0;32mfor\u001b[0m \u001b[0mix\u001b[0m\u001b[0;34m,\u001b[0m\u001b[0mdeg\u001b[0m \u001b[0;32min\u001b[0m \u001b[0mG\u001b[0m\u001b[0;34m.\u001b[0m\u001b[0mdegree\u001b[0m\u001b[0;34m(\u001b[0m\u001b[0;34m)\u001b[0m\u001b[0;34m.\u001b[0m\u001b[0mitems\u001b[0m\u001b[0;34m(\u001b[0m\u001b[0;34m)\u001b[0m\u001b[0;34m:\u001b[0m\u001b[0;34m\u001b[0m\u001b[0m\n\u001b[0m\u001b[1;32m     13\u001b[0m     \u001b[0mG\u001b[0m\u001b[0;34m.\u001b[0m\u001b[0mnode\u001b[0m\u001b[0;34m[\u001b[0m\u001b[0mix\u001b[0m\u001b[0;34m]\u001b[0m\u001b[0;34m[\u001b[0m\u001b[0;34m'degree'\u001b[0m\u001b[0;34m]\u001b[0m \u001b[0;34m=\u001b[0m \u001b[0mdeg\u001b[0m\u001b[0;34m\u001b[0m\u001b[0m\n\u001b[1;32m     14\u001b[0m     \u001b[0mG\u001b[0m\u001b[0;34m.\u001b[0m\u001b[0mnode\u001b[0m\u001b[0;34m[\u001b[0m\u001b[0mix\u001b[0m\u001b[0;34m]\u001b[0m\u001b[0;34m[\u001b[0m\u001b[0;34m'parity'\u001b[0m\u001b[0;34m]\u001b[0m \u001b[0;34m=\u001b[0m \u001b[0;34m(\u001b[0m\u001b[0;36m1\u001b[0m\u001b[0;34m-\u001b[0m\u001b[0mdeg\u001b[0m\u001b[0;34m%\u001b[0m\u001b[0;36m2\u001b[0m\u001b[0;34m)\u001b[0m\u001b[0;34m\u001b[0m\u001b[0m\n",
      "\u001b[0;31mAttributeError\u001b[0m: 'DegreeView' object has no attribute 'items'"
     ]
    },
    {
     "data": {
      "image/png": "[encoded data removed]",
      "text/plain": [
       "<matplotlib.figure.Figure at 0x151eaf6470>"
      ]
     },
     "metadata": {},
     "output_type": "display_data"
    }
   ],
   "source": [
    "import networkx as nx\n",
    "import json\n",
    "import matplotlib.pyplot as plt\n",
    "%matplotlib inline\n",
    "\n",
    "G = nx.erdos_renyi_graph(30,4.0/30)\n",
    "while not nx.is_connected(G):\n",
    "    G = nx.erdos_renyi_graph(30,4.0/30)\n",
    "plt.figure(figsize=(6,4));\n",
    "nx.draw(G)\n",
    "\n",
    "for ix,deg in G.degree().items():\n",
    "    G.node[ix]['degree'] = deg\n",
    "    G.node[ix]['parity'] = (1-deg%2)\n",
    "\n",
    "for ix,katz in nx.katz_centrality(G).items():\n",
    "    G.node[ix]['katz'] = katz\n",
    "\n",
    "G.nodes(data=True)[:5]"
   ]
  },
  {
   "cell_type": "code",
   "execution_count": null,
   "metadata": {
    "collapsed": true
   },
   "outputs": [],
   "source": [
    "js_text_template = Template(open('js/sigma-graph.js','r').read())\n",
    "\n",
    "js_text = js_text_template.substitute({'graph_data': json.dumps(graph_data),\n",
    "                                       'container': 'graph-div'})\n",
    "\n",
    "html_template = Template('''\n",
    "<div id=\"graph-div\" style=\"height:400px\"></div>\n",
    "<script> $js_text </script>\n",
    "''')\n",
    "HTML(html_template.substitute({'js_text': Food_Graph}))"
   ]
  },
  {
   "cell_type": "code",
   "execution_count": null,
   "metadata": {
    "collapsed": true
   },
   "outputs": [],
   "source": [
    "from IPython.core.display import HTML\n",
    "import d3_lib, random"
   ]
  },
  {
   "cell_type": "code",
   "execution_count": null,
   "metadata": {
    "collapsed": true
   },
   "outputs": [],
   "source": [
    "from IPython.display import Javascript"
   ]
  },
  {
   "cell_type": "code",
   "execution_count": null,
   "metadata": {
    "collapsed": true,
    "extensions": {
     "jupyter_dashboards": {
      "version": 1,
      "views": {
       "grid_default": {
        "hidden": true
       },
       "report_default": {}
      }
     }
    }
   },
   "outputs": [],
   "source": [
    "%%javascript\n",
    "require(['d3'], function(d3){\n",
    "  //a weird idempotency thing\n",
    "  $(\"#network\").remove();\n",
    "  //create canvas\n",
    "  element.append(\"<div id='network'></div>\");\n",
    "  $(\"#network\").width(\"960px\");\n",
    "  $(\"#network\").height(\"600px\");        \n",
    "  var margin = {top: 20, right: 20, bottom: 30, left: 40};\n",
    "  var width = 880 - margin.left - margin.right;\n",
    "  var height = 500 - margin.top - margin.bottom;\n",
    "  var svg = d3.select(\"#network\").append(\"svg\")\n",
    "    .style(\"position\", \"relative\")\n",
    "    .style(\"max-width\", \"960px\")\n",
    "    .attr(\"width\", width + \"px\")\n",
    "    .attr(\"height\", (height + 50) + \"px\")\n",
    "    .append(\"g\")\n",
    "    .attr(\"transform\", \"translate(\" + margin.left + \",\" + margin.top + \")\");\n",
    "  \n",
    "\n",
    "\n",
    "    var canvas = d3.select(\"#network\"),\n",
    "      width = canvas.attr(\"width\"),\n",
    "      height = canvas.attr(\"height\"),\n",
    "      ctx = canvas.node().getContext(\"2d\"),\n",
    "      r = 10,\n",
    "      color = d3.scaleOrdinal(d3.schemeCategory10),\n",
    "      simulation = d3.forceSimulation()\n",
    "        .force(\"x\", d3.forceX(width/2))\n",
    "        .force(\"y\", d3.forceY(height/2))\n",
    "        .force(\"collide\", d3.forceCollide(r+1))\n",
    "        .force(\"charge\", d3.forceManyBody()\n",
    "          .strength(-1000))\n",
    "        .force(\"link\", d3.forceLink()\n",
    "            .id(function (d) { return d.ingredients; }));\n",
    "\n",
    "\n",
    "      var lineWidthScale = d3.scaleLinear().range([1, 20]);\n",
    "\n",
    "    d3.json(\"data/graph_irish_17.json\", function (err, graph) {\n",
    "      if (err) throw err;\n",
    "\n",
    "      // Create a hash of the linked nodes\n",
    "      var nodesWithALink = d3.map();\n",
    "      graph.links.forEach(function (l) {\n",
    "        if (!nodesWithALink.has(l.source)) {\n",
    "          nodesWithALink.set(l.source, {\n",
    "            ingredients:l.source,\n",
    "            totalCount:0\n",
    "          });\n",
    "        }\n",
    "\n",
    "    var temp = nodesWithALink.get(l.source);\n",
    "    temp.totalCount+=l.count;\n",
    "    nodesWithALink.set(l.source, temp);\n",
    "\n",
    "    if (!nodesWithALink.has(l.target)) {\n",
    "      nodesWithALink.set(l.target, {\n",
    "        ingredients:l.target,\n",
    "        totalCount:0\n",
    "      });\n",
    "    }\n",
    "\n",
    "    temp = nodesWithALink.get(l.target);\n",
    "    temp.totalCount+=l.count;\n",
    "    nodesWithALink.set(l.target, temp);\n",
    "  });\n",
    "\n",
    "\n",
    "  // convert the hash into an array\n",
    "  var filteredNodes = nodesWithALink.values();\n",
    "  simulation.nodes(filteredNodes);\n",
    "  lineWidthScale.domain(d3.extent(filteredNodes, function (d) { return d.totalCount; }));\n",
    "\n",
    "\n",
    "  simulation.force(\"link\")\n",
    "    .links(graph.links);\n",
    "  simulation.on(\"tick\", update);\n",
    "  canvas\n",
    "      .call(d3.drag()\n",
    "          .container(canvas.node())\n",
    "          .subject(dragsubject)\n",
    "          .on(\"start\", dragstarted)\n",
    "          .on(\"drag\", dragged)\n",
    "          .on(\"end\", dragended));\n",
    "  function update() {\n",
    "    ctx.clearRect(0, 0, width, height);\n",
    "    ctx.beginPath();\n",
    "    // ctx.globalAlpha = 0.1;\n",
    "    ctx.strokeStyle = \"#aaa\";/* \"#aaa\" */\n",
    "    graph.links.forEach(drawLink);\n",
    "    ctx.stroke();\n",
    "    ctx.globalAlpha = 1.0;\n",
    "    filteredNodes.forEach(drawNode);\n",
    "  }\n",
    "  function dragsubject() {\n",
    "    return simulation.find(d3.event.x, d3.event.y);\n",
    "  }\n",
    "    });\n",
    "    function dragstarted() {\n",
    "      if (!d3.event.active) simulation.alphaTarget(0.3).restart();\n",
    "      d3.event.subject.fx = d3.event.subject.x;\n",
    "      d3.event.subject.fy = d3.event.subject.y;\n",
    "      console.log(d3.event.subject);\n",
    "    }\n",
    "    function dragged() {\n",
    "      d3.event.subject.fx = d3.event.x;\n",
    "      d3.event.subject.fy = d3.event.y;\n",
    "    }\n",
    "    function dragended() {\n",
    "      if (!d3.event.active) simulation.alphaTarget(0);\n",
    "      d3.event.subject.fx = null;\n",
    "      d3.event.subject.fy = null;\n",
    "    }\n",
    "    function drawNode(d) {\n",
    "      ctx.beginPath();\n",
    "      ctx.fillStyle = color(d.ingredients);\n",
    "      ctx.moveTo(d.x, d.y);\n",
    "      // ctx.arc(d.x, d.y, 30*(d.count)/873, 0, Math.PI*2);/*  r=d.gr_id */\n",
    "      ctx.arc(d.x, d.y, lineWidthScale(d.totalCount), 0, Math.PI*2);/*  r=d.gr_id */\n",
    "      ctx.fill();\n",
    "\n",
    "      ctx.font = \"12px Arial\";\n",
    "      ctx.fillText( d.ingredients, d.x + r+5, d.y);\n",
    "\n",
    "      // console.log(d.x);\n",
    "    }\n",
    "    function drawLink(l) {\n",
    "      ctx.moveTo(l.source.x, l.source.y);\n",
    "      ctx.lineWidth=lineWidthScale(l.count);\n",
    "      ctx.lineTo(l.target.x, l.target.y);\n",
    "    }\n",
    "});"
   ]
  },
  {
   "cell_type": "code",
   "execution_count": null,
   "metadata": {
    "collapsed": true
   },
   "outputs": [],
   "source": []
  }
 ],
 "metadata": {
  "celltoolbar": "Raw Cell Format",
  "extensions": {
   "jupyter_dashboards": {
    "activeView": "grid_default",
    "version": 1,
    "views": {
     "grid_default": {
      "cellMargin": 10,
      "defaultCellHeight": 20,
      "maxColumns": 12,
      "name": "grid",
      "type": "grid"
     },
     "report_default": {
      "name": "report",
      "type": "report"
     }
    }
   }
  },
  "kernelspec": {
   "display_name": "Python 3",
   "language": "python",
   "name": "python3"
  },
  "language_info": {
   "codemirror_mode": {
    "name": "ipython",
    "version": 3
   },
   "file_extension": ".py",
   "mimetype": "text/x-python",
   "name": "python",
   "nbconvert_exporter": "python",
   "pygments_lexer": "ipython3",
   "version": "3.5.4"
  }
 },
 "nbformat": 4,
 "nbformat_minor": 2
}
